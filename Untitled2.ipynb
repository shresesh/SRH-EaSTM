{
  "nbformat": 4,
  "nbformat_minor": 0,
  "metadata": {
    "colab": {
      "name": "Untitled2.ipynb",
      "provenance": [],
      "authorship_tag": "ABX9TyPki9wmOxClpoi+b+8Waf4F",
      "include_colab_link": true
    },
    "kernelspec": {
      "name": "python3",
      "display_name": "Python 3"
    },
    "language_info": {
      "name": "python"
    }
  },
  "cells": [
    {
      "cell_type": "markdown",
      "metadata": {
        "id": "view-in-github",
        "colab_type": "text"
      },
      "source": [
        "<a href=\"https://colab.research.google.com/github/shresesh/SRH-EaSTM/blob/main/Untitled2.ipynb\" target=\"_parent\"><img src=\"https://colab.research.google.com/assets/colab-badge.svg\" alt=\"Open In Colab\"/></a>"
      ]
    },
    {
      "cell_type": "code",
      "metadata": {
        "id": "_2_3jkYYSIr1"
      },
      "source": [
        ""
      ],
      "execution_count": null,
      "outputs": []
    },
    {
      "cell_type": "markdown",
      "metadata": {
        "id": "8Wgvp5PQSKJN"
      },
      "source": [
        "This is free and unencumbered software released into the public domain.\n",
        "\n",
        "Anyone is free to copy, modify, publish, use, compile, sell, or\n",
        "distribute this software, either in source code form or as a compiled\n",
        "binary, for any purpose, commercial or non-commercial, and by any\n",
        "means.\n",
        "\n",
        "In jurisdictions that recognize copyright laws, the author or authors\n",
        "of this software dedicate any and all copyright interest in the\n",
        "software to the public domain. We make this dedication for the benefit\n",
        "of the public at large and to the detriment of our heirs and\n",
        "successors. We intend this dedication to be an overt act of\n",
        "relinquishment in perpetuity of all present and future rights to this\n",
        "software under copyright law.\n",
        "\n",
        "THE SOFTWARE IS PROVIDED \"AS IS\", WITHOUT WARRANTY OF ANY KIND,\n",
        "EXPRESS OR IMPLIED, INCLUDING BUT NOT LIMITED TO THE WARRANTIES OF\n",
        "MERCHANTABILITY, FITNESS FOR A PARTICULAR PURPOSE AND NONINFRINGEMENT.\n",
        "IN NO EVENT SHALL THE AUTHORS BE LIABLE FOR ANY CLAIM, DAMAGES OR\n",
        "OTHER LIABILITY, WHETHER IN AN ACTION OF CONTRACT, TORT OR OTHERWISE,\n",
        "ARISING FROM, OUT OF OR IN CONNECTION WITH THE SOFTWARE OR THE USE OR\n",
        "OTHER DEALINGS IN THE SOFTWARE.\n",
        "\n",
        "For more information, please refer to <http://unlicense.org/>"
      ]
    },
    {
      "cell_type": "code",
      "metadata": {
        "colab": {
          "base_uri": "https://localhost:8080/"
        },
        "id": "GHqvdzW7H-j_",
        "outputId": "8925b635-5cb1-4e6a-9080-f3cb34d4679e"
      },
      "source": [
        "n=input(\"enter the number\")\n",
        "def convert_to_words(num):\n",
        "  l=len(num)\n",
        "  if (l==0):\n",
        "     print(\"empty string\")\n",
        "     return\n",
        "  if (l>3):\n",
        "     print(\"Length more than 3 is not supported\")\n",
        "     return\n",
        "  single_digits = [\"zero\",\"one\",\"two\",\"three\",\"four\",\"five\",\"six\",\"seven\",\n",
        "                   \"eigth\",\"nine\"]\n",
        "  two_digits = [\"\",\"ten\",\"eleven\",\"twelve\",\"thirteen\",\"fourteen\",\"fifteen\",\n",
        "                \"sixteen\",\"seventeen\",\"eighteen\",\"nineteen\"]\n",
        "  tens_multiple = [\"\",\"\",\"twenty\",\"thirty\",\"forty\",\"fifty\",\"sixty\",\n",
        "                   \"seventy\",\"eighty\",\"ninety\"]\n",
        "  tens_power = [\"hundred\"]\n",
        "  print(num, \":\", end=\"\")\n",
        "  if (l==1):\n",
        "    print(single_digits[ord(num[0])-'0'])\n",
        "    return\n",
        "  x=0\n",
        "  while (x < len(num)):\n",
        "    if (l >= 3):\n",
        "      if (ord(num[x])-48 != 0):\n",
        "        print(single_digits[ord(num[x])-48],end=\"\")\n",
        "        print(tens_power[l-3],end=\"\")\n",
        "      l -= 1\n",
        "    else:\n",
        "      if (ord(num[x])-48==1):\n",
        "          sum = (ord(num[x])-48 + ord(num[x+1])-48)\n",
        "          print(two_digits[sum])\n",
        "          return\n",
        "      elif (ord(num[x])-48 == 2 and ord(num[x+1])-48==0 ):\n",
        "        print(\"twenty\")\n",
        "        return\n",
        "      else:\n",
        "        i=ord(num[x])-48\n",
        "        if (i>0):\n",
        "          print(tens_multiple[i], end=\"\")\n",
        "        else:\n",
        "          print(\"\",end=\"\")\n",
        "        x += 1\n",
        "        if (ord(num[x])-48!=0):\n",
        "          print(single_digits[ord(num[x])-48]) \n",
        "    x+=1\n",
        "\n",
        "convert_to_words(n)\n",
        "        \n",
        "    \n",
        "\n"
      ],
      "execution_count": 99,
      "outputs": [
        {
          "output_type": "stream",
          "text": [
            "enter the number816\n",
            "816 :eigthhundredsixteen\n"
          ],
          "name": "stdout"
        }
      ]
    }
  ]
}